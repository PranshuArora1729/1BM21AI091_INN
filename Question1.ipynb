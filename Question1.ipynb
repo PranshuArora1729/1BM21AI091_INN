{
 "cells": [
  {
   "cell_type": "code",
   "execution_count": 3,
   "metadata": {},
   "outputs": [],
   "source": [
    "import numpy as np"
   ]
  },
  {
   "cell_type": "code",
   "execution_count": 4,
   "metadata": {},
   "outputs": [],
   "source": [
    "class Neuron:\n",
    "    def __init__(self, input_size):\n",
    "        self.weights = np.random.rand(input_size)\n",
    "        self.bias = np.random.rand()\n",
    "\n",
    "    def sigmoid(self, x):\n",
    "        return 1 / (1 + np.exp(-x))\n",
    "\n",
    "    def forward(self, inputs):\n",
    "        weighted_sum = np.dot(inputs, self.weights) + self.bias\n",
    "        output = self.sigmoid(weighted_sum)\n",
    "        return output"
   ]
  },
  {
   "cell_type": "code",
   "execution_count": 5,
   "metadata": {},
   "outputs": [
    {
     "name": "stdout",
     "output_type": "stream",
     "text": [
      "Input: [0.70522539 0.03198568 0.27510438 0.17235671 0.3246268  0.22780378\n",
      " 0.09518722 0.3221853  0.69418613 0.06485172]\n",
      "Weights: [0.08806872 0.54355484 0.81915626 0.53298248 0.04050618 0.94468114\n",
      " 0.0887224  0.08135511 0.94948208 0.61055333]\n",
      "Bias: 0.13485049432214158\n",
      "Weighted Sum: 1.493282052037033\n",
      "Output: 0.8165703796775671\n"
     ]
    }
   ],
   "source": [
    "input_size = 10\n",
    "neuron = Neuron(input_size)\n",
    "inputs = np.random.rand(input_size)\n",
    "output = neuron.forward(inputs)\n",
    "\n",
    "print(\"Input:\", inputs)\n",
    "print(\"Weights:\", neuron.weights)\n",
    "print(\"Bias:\", neuron.bias)\n",
    "print(\"Weighted Sum:\", np.dot(inputs, neuron.weights) + neuron.bias)\n",
    "print(\"Output:\", output)"
   ]
  }
 ],
 "metadata": {
  "kernelspec": {
   "display_name": "Python 3",
   "language": "python",
   "name": "python3"
  },
  "language_info": {
   "codemirror_mode": {
    "name": "ipython",
    "version": 3
   },
   "file_extension": ".py",
   "mimetype": "text/x-python",
   "name": "python",
   "nbconvert_exporter": "python",
   "pygments_lexer": "ipython3",
   "version": "3.12.0"
  }
 },
 "nbformat": 4,
 "nbformat_minor": 2
}
