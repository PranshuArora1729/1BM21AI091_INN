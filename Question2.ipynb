{
 "cells": [
  {
   "cell_type": "code",
   "execution_count": 5,
   "metadata": {},
   "outputs": [],
   "source": [
    "import numpy as np\n",
    "import matplotlib.pyplot as plt"
   ]
  },
  {
   "cell_type": "code",
   "execution_count": 6,
   "metadata": {},
   "outputs": [],
   "source": [
    "class Perceptron:\n",
    "    def __init__(self, input_size, lr=0.01, epochs=100):\n",
    "        self.w, self.b, self.lr, self.epochs = np.random.rand(input_size), np.random.rand(), lr, epochs\n",
    "\n",
    "    def predict(self, inputs):\n",
    "        return 1 if np.dot(inputs, self.w) + self.b >= 0 else -1\n",
    "\n",
    "    def train(self, data, labels):\n",
    "        for epoch in range(self.epochs):\n",
    "            for inputs, label in zip(data, labels):\n",
    "                self.w += self.lr * (label - self.predict(inputs)) * inputs\n",
    "                self.b += self.lr * (label - self.predict(inputs))\n",
    "\n",
    "            if epoch % 10 == 0:\n",
    "                acc = np.mean([self.predict(x) == label for x, label in zip(data, labels)])\n",
    "                print(f\"Epoch {epoch}/{self.epochs}, Accuracy: {acc:.2%}\")\n",
    "\n",
    "    def decision_boundary(self, x):\n",
    "        return -(self.w[0] * x + self.b) / self.w[1]"
   ]
  },
  {
   "cell_type": "code",
   "execution_count": 8,
   "metadata": {},
   "outputs": [
    {
     "ename": "NameError",
     "evalue": "name 'c1' is not defined",
     "output_type": "error",
     "traceback": [
      "\u001b[1;31m---------------------------------------------------------------------------\u001b[0m",
      "\u001b[1;31mNameError\u001b[0m                                 Traceback (most recent call last)",
      "Cell \u001b[1;32mIn[8], line 6\u001b[0m\n\u001b[0;32m      4\u001b[0m input_size \u001b[38;5;241m=\u001b[39m \u001b[38;5;241m2\u001b[39m\n\u001b[0;32m      5\u001b[0m p \u001b[38;5;241m=\u001b[39m Perceptron(input_size)\n\u001b[1;32m----> 6\u001b[0m c1, c2, data, labels \u001b[38;5;241m=\u001b[39m np\u001b[38;5;241m.\u001b[39mrandom\u001b[38;5;241m.\u001b[39mrand(\u001b[38;5;241m50\u001b[39m, input_size) \u001b[38;5;241m*\u001b[39m \u001b[38;5;241m0.5\u001b[39m, np\u001b[38;5;241m.\u001b[39mrandom\u001b[38;5;241m.\u001b[39mrand(\u001b[38;5;241m50\u001b[39m, input_size) \u001b[38;5;241m*\u001b[39m \u001b[38;5;241m0.5\u001b[39m \u001b[38;5;241m+\u001b[39m \u001b[38;5;241m0.5\u001b[39m, np\u001b[38;5;241m.\u001b[39mconcatenate((\u001b[43mc1\u001b[49m, c2), axis\u001b[38;5;241m=\u001b[39m\u001b[38;5;241m0\u001b[39m), np\u001b[38;5;241m.\u001b[39mconcatenate((np\u001b[38;5;241m.\u001b[39mones(\u001b[38;5;241m50\u001b[39m), \u001b[38;5;241m-\u001b[39mnp\u001b[38;5;241m.\u001b[39mones(\u001b[38;5;241m50\u001b[39m)))\n\u001b[0;32m      8\u001b[0m p\u001b[38;5;241m.\u001b[39mtrain(data, labels)\n",
      "\u001b[1;31mNameError\u001b[0m: name 'c1' is not defined"
     ]
    }
   ],
   "source": [
    "np.random.seed(42)\n",
    "\n",
    "# Example usage:\n",
    "input_size = 2\n",
    "p = Perceptron(input_size)\n",
    "c1, c2, data, labels = np.random.rand(50, input_size) * 0.5, np.random.rand(50, input_size) * 0.5 + 0.5, np.concatenate((c1, c2), axis=0), np.concatenate((np.ones(50), -np.ones(50)))\n",
    "\n",
    "p.train(data, labels)"
   ]
  },
  {
   "cell_type": "code",
   "execution_count": 4,
   "metadata": {},
   "outputs": [
    {
     "ename": "NameError",
     "evalue": "name 'plt' is not defined",
     "output_type": "error",
     "traceback": [
      "\u001b[1;31m---------------------------------------------------------------------------\u001b[0m",
      "\u001b[1;31mNameError\u001b[0m                                 Traceback (most recent call last)",
      "Cell \u001b[1;32mIn[4], line 1\u001b[0m\n\u001b[1;32m----> 1\u001b[0m \u001b[43mplt\u001b[49m\u001b[38;5;241m.\u001b[39mfigure(figsize\u001b[38;5;241m=\u001b[39m(\u001b[38;5;241m8\u001b[39m, \u001b[38;5;241m6\u001b[39m))\n\u001b[0;32m      2\u001b[0m plt\u001b[38;5;241m.\u001b[39mscatter(c1[:, \u001b[38;5;241m0\u001b[39m], c1[:, \u001b[38;5;241m1\u001b[39m], label\u001b[38;5;241m=\u001b[39m\u001b[38;5;124m'\u001b[39m\u001b[38;5;124mClass 1\u001b[39m\u001b[38;5;124m'\u001b[39m, marker\u001b[38;5;241m=\u001b[39m\u001b[38;5;124m'\u001b[39m\u001b[38;5;124mo\u001b[39m\u001b[38;5;124m'\u001b[39m)\n\u001b[0;32m      3\u001b[0m plt\u001b[38;5;241m.\u001b[39mscatter(c2[:, \u001b[38;5;241m0\u001b[39m], c2[:, \u001b[38;5;241m1\u001b[39m], label\u001b[38;5;241m=\u001b[39m\u001b[38;5;124m'\u001b[39m\u001b[38;5;124mClass 2\u001b[39m\u001b[38;5;124m'\u001b[39m, marker\u001b[38;5;241m=\u001b[39m\u001b[38;5;124m'\u001b[39m\u001b[38;5;124mx\u001b[39m\u001b[38;5;124m'\u001b[39m)\n",
      "\u001b[1;31mNameError\u001b[0m: name 'plt' is not defined"
     ]
    }
   ],
   "source": [
    "plt.figure(figsize=(8, 6))\n",
    "plt.scatter(c1[:, 0], c1[:, 1], label='Class 1', marker='o')\n",
    "plt.scatter(c2[:, 0], c2[:, 1], label='Class 2', marker='x')\n",
    "plt.plot(np.linspace(0, 1, 100), p.decision_boundary(np.linspace(0, 1, 100)), 'k--', label='Decision Boundary', linewidth=2)\n",
    "\n",
    "plt.xlabel('Input Feature 1')\n",
    "plt.ylabel('Input Feature 2')\n",
    "plt.title('Perceptron Decision Boundary')\n",
    "plt.legend()\n",
    "plt.show()"
   ]
  },
  {
   "cell_type": "code",
   "execution_count": null,
   "metadata": {},
   "outputs": [],
   "source": []
  }
 ],
 "metadata": {
  "kernelspec": {
   "display_name": "Python 3",
   "language": "python",
   "name": "python3"
  },
  "language_info": {
   "codemirror_mode": {
    "name": "ipython",
    "version": 3
   },
   "file_extension": ".py",
   "mimetype": "text/x-python",
   "name": "python",
   "nbconvert_exporter": "python",
   "pygments_lexer": "ipython3",
   "version": "3.12.0"
  }
 },
 "nbformat": 4,
 "nbformat_minor": 2
}
