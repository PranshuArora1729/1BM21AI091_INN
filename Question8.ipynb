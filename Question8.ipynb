{
 "cells": [
  {
   "cell_type": "code",
   "execution_count": 2,
   "metadata": {},
   "outputs": [
    {
     "name": "stdout",
     "output_type": "stream",
     "text": [
      "Original Data: [1, 2, 3, 8, 9, 10, 15, 16, 17]\n",
      "Cluster 1: [8, 9, 10, 15, 16, 17]\n",
      "Cluster 2: [1, 2, 3]\n"
     ]
    },
    {
     "name": "stderr",
     "output_type": "stream",
     "text": [
      "C:\\Users\\prans\\AppData\\Roaming\\Python\\Python312\\site-packages\\sklearn\\cluster\\_kmeans.py:1416: FutureWarning: The default value of `n_init` will change from 10 to 'auto' in 1.4. Set the value of `n_init` explicitly to suppress the warning\n",
      "  super()._check_params_vs_input(X, default_n_init=10)\n"
     ]
    }
   ],
   "source": [
    "import numpy as np\n",
    "from sklearn.cluster import KMeans\n",
    "\n",
    "\n",
    "def analyze_patterns(data):\n",
    "    kmeans = KMeans(n_clusters=2)\n",
    "    kmeans.fit(np.array(data).reshape(-1, 1))\n",
    "    cluster_1 = [data[i] for i in range(len(data)) if kmeans.labels_[i] == 0]\n",
    "    cluster_2 = [data[i] for i in range(len(data)) if kmeans.labels_[i] == 1]\n",
    "    return cluster_1, cluster_2\n",
    "\n",
    "\n",
    "input_data = [1, 2, 3, 8, 9, 10, 15, 16, 17]\n",
    "cluster_1, cluster_2 = analyze_patterns(input_data)\n",
    "print(\"Original Data:\", input_data)\n",
    "print(\"Cluster 1:\", cluster_1)\n",
    "print(\"Cluster 2:\", cluster_2)"
   ]
  },
  {
   "cell_type": "code",
   "execution_count": null,
   "metadata": {},
   "outputs": [],
   "source": []
  }
 ],
 "metadata": {
  "kernelspec": {
   "display_name": "Python 3",
   "language": "python",
   "name": "python3"
  },
  "language_info": {
   "codemirror_mode": {
    "name": "ipython",
    "version": 3
   },
   "file_extension": ".py",
   "mimetype": "text/x-python",
   "name": "python",
   "nbconvert_exporter": "python",
   "pygments_lexer": "ipython3",
   "version": "3.12.0"
  }
 },
 "nbformat": 4,
 "nbformat_minor": 2
}
