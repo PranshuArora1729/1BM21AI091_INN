{
 "cells": [
  {
   "cell_type": "code",
   "execution_count": null,
   "metadata": {},
   "outputs": [],
   "source": [
    "import tensorflow as tf\n",
    "import numpy as np\n",
    "import matplotlib.pyplot as plt\n",
    "\n",
    "np.random.seed(42)\n",
    "X_train = np.random.rand(100, 1) * 2 * np.pi\n",
    "y_train = np.sin(X_train)\n",
    "\n",
    "model = tf.keras.Sequential(\n",
    "    [\n",
    "        tf.keras.layers.Dense(10, activation=\"relu\", input_shape=(1,)),\n",
    "        tf.keras.layers.Dense(1),\n",
    "    ]\n",
    ")\n",
    "\n",
    "model.compile(optimizer=\"adam\", loss=\"mean_squared_error\")\n",
    "model.fit(X_train, y_train, epochs=1000, verbose=0)\n",
    "\n",
    "X_test = np.linspace(0, 2 * np.pi, 100).reshape(-1, 1)\n",
    "y_pred = model.predict(X_test)\n",
    "\n",
    "plt.scatter(X_train, y_train, label=\"Training Data\")\n",
    "plt.plot(X_test, y_pred, color=\"red\", label=\"Neural Network Approximation\")\n",
    "plt.xlabel(\"Input\")\n",
    "plt.ylabel(\"Output\")\n",
    "plt.legend()\n",
    "plt.show()"
   ]
  }
 ],
 "metadata": {
  "kernelspec": {
   "display_name": "Python 3",
   "language": "python",
   "name": "python3"
  },
  "language_info": {
   "codemirror_mode": {
    "name": "ipython",
    "version": 3
   },
   "file_extension": ".py",
   "mimetype": "text/x-python",
   "name": "python",
   "nbconvert_exporter": "python",
   "pygments_lexer": "ipython3",
   "version": "3.12.0"
  }
 },
 "nbformat": 4,
 "nbformat_minor": 2
}
