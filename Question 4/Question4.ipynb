{
  "cells": [
    {
      "cell_type": "code",
      "execution_count": null,
      "metadata": {
        "id": "obpHtICTL9rP"
      },
      "outputs": [],
      "source": [
        "import numpy as np\n",
        "import pandas as pd\n",
        "import tensorflow as tf\n",
        "from tensorflow.keras.models import Sequential\n",
        "from tensorflow.keras.layers import Dense\n",
        "from sklearn.model_selection import train_test_split\n",
        "from sklearn.metrics import accuracy_score"
      ]
    },
    {
      "cell_type": "code",
      "execution_count": 3,
      "metadata": {
        "id": "CaB_HXNXL9rR"
      },
      "outputs": [],
      "source": [
        "df = pd.read_csv(\"breast-cancer.csv\")\n",
        "df['diagnosis'] = df['diagnosis'].map({'M': 1, 'B': 0})"
      ]
    },
    {
      "cell_type": "code",
      "execution_count": 4,
      "metadata": {
        "id": "nokw04VsL9rR"
      },
      "outputs": [],
      "source": [
        "x, y = df.drop(['diagnosis', 'id'], axis=1), df['diagnosis']\n",
        "X_train, X_test, y_train, y_test = train_test_split(x, y, test_size=0.2, random_state=42)"
      ]
    },
    {
      "cell_type": "code",
      "execution_count": 5,
      "metadata": {
        "id": "eyzibPqUL9rR",
        "outputId": "05e35f76-e62e-40b0-d1f6-87be837d9d38",
        "colab": {
          "base_uri": "https://localhost:8080/"
        }
      },
      "outputs": [
        {
          "output_type": "stream",
          "name": "stdout",
          "text": [
            "Epoch 1/25\n",
            "6/6 [==============================] - 1s 50ms/step - loss: 1.6422 - accuracy: 0.7170 - val_loss: 1.4628 - val_accuracy: 0.7473\n",
            "Epoch 2/25\n",
            "6/6 [==============================] - 0s 9ms/step - loss: 0.9024 - accuracy: 0.8819 - val_loss: 1.0897 - val_accuracy: 0.8132\n",
            "Epoch 3/25\n",
            "6/6 [==============================] - 0s 9ms/step - loss: 0.6660 - accuracy: 0.8297 - val_loss: 1.6707 - val_accuracy: 0.8681\n",
            "Epoch 4/25\n",
            "6/6 [==============================] - 0s 12ms/step - loss: 0.7221 - accuracy: 0.8901 - val_loss: 0.7822 - val_accuracy: 0.7802\n",
            "Epoch 5/25\n",
            "6/6 [==============================] - 0s 12ms/step - loss: 0.6240 - accuracy: 0.8462 - val_loss: 0.9690 - val_accuracy: 0.8791\n",
            "Epoch 6/25\n",
            "6/6 [==============================] - 0s 15ms/step - loss: 0.4339 - accuracy: 0.8956 - val_loss: 0.5865 - val_accuracy: 0.8132\n",
            "Epoch 7/25\n",
            "6/6 [==============================] - 0s 9ms/step - loss: 0.4884 - accuracy: 0.8929 - val_loss: 0.7637 - val_accuracy: 0.8901\n",
            "Epoch 8/25\n",
            "6/6 [==============================] - 0s 9ms/step - loss: 0.4607 - accuracy: 0.8626 - val_loss: 0.6188 - val_accuracy: 0.8791\n",
            "Epoch 9/25\n",
            "6/6 [==============================] - 0s 11ms/step - loss: 0.4148 - accuracy: 0.9011 - val_loss: 0.4882 - val_accuracy: 0.8242\n",
            "Epoch 10/25\n",
            "6/6 [==============================] - 0s 9ms/step - loss: 0.3754 - accuracy: 0.8929 - val_loss: 0.7479 - val_accuracy: 0.8571\n",
            "Epoch 11/25\n",
            "6/6 [==============================] - 0s 9ms/step - loss: 0.3665 - accuracy: 0.9066 - val_loss: 0.4757 - val_accuracy: 0.8242\n",
            "Epoch 12/25\n",
            "6/6 [==============================] - 0s 12ms/step - loss: 0.3708 - accuracy: 0.9011 - val_loss: 0.5149 - val_accuracy: 0.8901\n",
            "Epoch 13/25\n",
            "6/6 [==============================] - 0s 12ms/step - loss: 0.3326 - accuracy: 0.8984 - val_loss: 0.4608 - val_accuracy: 0.8791\n",
            "Epoch 14/25\n",
            "6/6 [==============================] - 0s 12ms/step - loss: 0.3322 - accuracy: 0.8929 - val_loss: 0.5059 - val_accuracy: 0.8901\n",
            "Epoch 15/25\n",
            "6/6 [==============================] - 0s 10ms/step - loss: 0.3446 - accuracy: 0.9038 - val_loss: 0.3733 - val_accuracy: 0.8462\n",
            "Epoch 16/25\n",
            "6/6 [==============================] - 0s 8ms/step - loss: 0.3422 - accuracy: 0.9011 - val_loss: 0.3718 - val_accuracy: 0.8571\n",
            "Epoch 17/25\n",
            "6/6 [==============================] - 0s 9ms/step - loss: 0.2980 - accuracy: 0.9066 - val_loss: 0.4696 - val_accuracy: 0.8901\n",
            "Epoch 18/25\n",
            "6/6 [==============================] - 0s 9ms/step - loss: 0.2801 - accuracy: 0.9093 - val_loss: 0.3717 - val_accuracy: 0.8681\n",
            "Epoch 19/25\n",
            "6/6 [==============================] - 0s 13ms/step - loss: 0.2987 - accuracy: 0.9148 - val_loss: 0.3885 - val_accuracy: 0.8901\n",
            "Epoch 20/25\n",
            "6/6 [==============================] - 0s 9ms/step - loss: 0.3105 - accuracy: 0.9038 - val_loss: 0.4258 - val_accuracy: 0.8901\n",
            "Epoch 21/25\n",
            "6/6 [==============================] - 0s 9ms/step - loss: 0.2748 - accuracy: 0.9121 - val_loss: 0.3436 - val_accuracy: 0.8901\n",
            "Epoch 22/25\n",
            "6/6 [==============================] - 0s 13ms/step - loss: 0.2687 - accuracy: 0.9093 - val_loss: 0.3824 - val_accuracy: 0.9011\n",
            "Epoch 23/25\n",
            "6/6 [==============================] - 0s 13ms/step - loss: 0.2661 - accuracy: 0.9066 - val_loss: 0.3264 - val_accuracy: 0.8901\n",
            "Epoch 24/25\n",
            "6/6 [==============================] - 0s 9ms/step - loss: 0.3101 - accuracy: 0.9066 - val_loss: 0.3049 - val_accuracy: 0.8901\n",
            "Epoch 25/25\n",
            "6/6 [==============================] - 0s 8ms/step - loss: 0.2480 - accuracy: 0.9148 - val_loss: 0.4626 - val_accuracy: 0.8901\n",
            "4/4 [==============================] - 0s 3ms/step\n",
            "Test Accuracy: 0.9473684210526315\n"
          ]
        }
      ],
      "source": [
        "model = Sequential([\n",
        "    Dense(64, activation='relu', input_dim=X_train.shape[1]),\n",
        "    Dense(16, activation='relu'),\n",
        "    Dense(1, activation='sigmoid')\n",
        "])\n",
        "model.compile(optimizer='adam', loss='binary_crossentropy', metrics=['accuracy'])\n",
        "\n",
        "model.fit(X_train, y_train, epochs=25, batch_size=64, validation_split=0.2)\n",
        "\n",
        "y_pred_binary = np.round(model.predict(X_test)).flatten()\n",
        "accuracy = accuracy_score(y_test, y_pred_binary)\n",
        "print(f'Test Accuracy: {accuracy}')"
      ]
    },
    {
      "cell_type": "code",
      "execution_count": null,
      "metadata": {
        "id": "YZQRlUAmL9rR"
      },
      "outputs": [],
      "source": []
    }
  ],
  "metadata": {
    "kernelspec": {
      "display_name": "Python 3",
      "language": "python",
      "name": "python3"
    },
    "language_info": {
      "codemirror_mode": {
        "name": "ipython",
        "version": 3
      },
      "file_extension": ".py",
      "mimetype": "text/x-python",
      "name": "python",
      "nbconvert_exporter": "python",
      "pygments_lexer": "ipython3",
      "version": "3.11.3"
    },
    "colab": {
      "provenance": []
    }
  },
  "nbformat": 4,
  "nbformat_minor": 0
}